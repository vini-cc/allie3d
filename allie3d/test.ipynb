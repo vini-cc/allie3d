{
 "cells": [
  {
   "cell_type": "code",
   "execution_count": 1,
   "metadata": {},
   "outputs": [],
   "source": [
    "import cv2 as cv\n",
    "import numpy as np\n",
    "import glob"
   ]
  },
  {
   "cell_type": "code",
   "execution_count": 2,
   "metadata": {},
   "outputs": [],
   "source": [
    "chessboardSize = (10,7)\n",
    "\n",
    "# termination criteria\n",
    "criteria = (cv.TERM_CRITERIA_EPS + cv.TERM_CRITERIA_MAX_ITER, 30, 0.001)\n",
    "\n",
    "\n",
    "# prepare object points, like (0,0,0), (1,0,0), (2,0,0) ....,(6,5,0)\n",
    "objp = np.zeros((chessboardSize[0] * chessboardSize[1], 3), np.float32)\n",
    "objp[:,:2] = np.mgrid[0:chessboardSize[0],0:chessboardSize[1]].T.reshape(-1,2)\n",
    "\n",
    "# size_of_chessboard_squares_mm = 25\n",
    "# objp = objp * size_of_chessboard_squares_mm\n",
    "\n",
    "\n",
    "# Arrays to store object points and image points from all the images.\n",
    "objpoints = [] # 3d point in real world space\n",
    "imgpoints = [] # 2d points in image plane."
   ]
  },
  {
   "cell_type": "code",
   "execution_count": 3,
   "metadata": {},
   "outputs": [
    {
     "name": "stdout",
     "output_type": "stream",
     "text": [
      ".\\calibration\n",
      "\\IMG-1826.JPG\n",
      ".\\calibration\\IMG-1826.JPG\n",
      "(1451, 1088)\n",
      ".\\calibration\n",
      "\\IMG-1827.JPG\n",
      ".\\calibration\\IMG-1827.JPG\n",
      "(1451, 1088)\n",
      ".\\calibration\n",
      "\\IMG-1828.JPG\n",
      ".\\calibration\\IMG-1828.JPG\n",
      "(1451, 1088)\n",
      ".\\calibration\n",
      "\\IMG-1829.JPG\n",
      ".\\calibration\\IMG-1829.JPG\n",
      "(1451, 1088)\n",
      ".\\calibration\n",
      "\\IMG-1830.JPG\n",
      ".\\calibration\\IMG-1830.JPG\n",
      "(1451, 1088)\n",
      ".\\calibration\n",
      "\\IMG-1831.JPG\n",
      ".\\calibration\\IMG-1831.JPG\n",
      "(1451, 1088)\n",
      ".\\calibration\n",
      "\\IMG-1832.JPG\n",
      ".\\calibration\\IMG-1832.JPG\n",
      "(1451, 1088)\n",
      ".\\calibration\n",
      "\\IMG-1833.JPG\n",
      ".\\calibration\\IMG-1833.JPG\n",
      "(1451, 1088)\n",
      ".\\calibration\n",
      "\\IMG-1834.JPG\n",
      ".\\calibration\\IMG-1834.JPG\n",
      "(1451, 1088)\n",
      ".\\calibration\n",
      "\\IMG-1836.JPG\n",
      ".\\calibration\\IMG-1836.JPG\n",
      "(1451, 1088)\n"
     ]
    }
   ],
   "source": [
    "img_path = glob.glob('.\\calibration\\*')\n",
    "\n",
    "for image in img_path:\n",
    "    img = cv.imread(image)\n",
    "    h, w = img.shape[:2]\n",
    "    beg_str = image[:13]\n",
    "    end_str = image[13:]\n",
    "    print(beg_str)\n",
    "    print(end_str)\n",
    "    print(image)\n",
    "\n",
    "    scale_percent = 36 # percent of original size\n",
    "    width = int(w * scale_percent / 100)\n",
    "    height = int(h * scale_percent / 100)\n",
    "    dim = (width, height)\n",
    "    print (dim)\n",
    "\n",
    "    resized = cv.resize(img, dim, interpolation = cv.INTER_AREA)\n",
    "    cv.imwrite(f\"{beg_str}_resized{end_str}\", resized)"
   ]
  },
  {
   "cell_type": "code",
   "execution_count": 4,
   "metadata": {},
   "outputs": [
    {
     "name": "stdout",
     "output_type": "stream",
     "text": [
      "Imagem carregada. Analisando...\n",
      "Padrão encontrado!\n",
      "./calibration_resized\\IMG-1826.JPG\n",
      "Imagem carregada. Analisando...\n",
      "Padrão encontrado!\n",
      "./calibration_resized\\IMG-1827.JPG\n",
      "Imagem carregada. Analisando...\n",
      "Padrão encontrado!\n",
      "./calibration_resized\\IMG-1828.JPG\n",
      "Imagem carregada. Analisando...\n",
      "Padrão encontrado!\n",
      "./calibration_resized\\IMG-1829.JPG\n",
      "Imagem carregada. Analisando...\n",
      "Padrão encontrado!\n",
      "./calibration_resized\\IMG-1830.JPG\n",
      "Imagem carregada. Analisando...\n",
      "Padrão encontrado!\n",
      "./calibration_resized\\IMG-1831.JPG\n",
      "Imagem carregada. Analisando...\n",
      "Padrão encontrado!\n",
      "./calibration_resized\\IMG-1832.JPG\n",
      "Imagem carregada. Analisando...\n",
      "Padrão encontrado!\n",
      "./calibration_resized\\IMG-1833.JPG\n",
      "Imagem carregada. Analisando...\n",
      "Padrão encontrado!\n",
      "./calibration_resized\\IMG-1834.JPG\n",
      "Imagem carregada. Analisando...\n",
      "Padrão encontrado!\n",
      "./calibration_resized\\IMG-1836.JPG\n"
     ]
    }
   ],
   "source": [
    "images = glob.glob('./calibration_resized/*')\n",
    "\n",
    "for image in images:\n",
    "\n",
    "    img = cv.imread(image)\n",
    "    h, w = img.shape[:2]\n",
    "\n",
    "    gray = cv.cvtColor(img, cv.COLOR_BGR2GRAY)\n",
    "    print(\"Imagem carregada. Analisando...\")\n",
    "    ret, corners = cv.findChessboardCorners(gray, chessboardSize, None)\n",
    "\n",
    "    if ret == True:\n",
    "        print(\"Padrão encontrado!\")\n",
    "        print(image)\n",
    "        objpoints.append(objp)\n",
    "        corners2 = cv.cornerSubPix(gray, corners, (11,11), (-1,-1), criteria)\n",
    "        imgpoints.append(corners2)\n",
    "\n",
    "        # Draw and display the corners\n",
    "        img_final = cv.drawChessboardCorners(img, chessboardSize, corners2, ret)\n",
    "        cv.imshow('img', img_final)\n",
    "        cv.waitKey(1000)\n",
    "\n",
    "cv.destroyAllWindows()"
   ]
  },
  {
   "cell_type": "code",
   "execution_count": 5,
   "metadata": {},
   "outputs": [],
   "source": [
    "ret, mtx, dist, rvecs, tvecs = cv.calibrateCamera(objpoints, imgpoints, gray.shape[::-1],None,None)\n"
   ]
  },
  {
   "cell_type": "code",
   "execution_count": 6,
   "metadata": {},
   "outputs": [
    {
     "name": "stdout",
     "output_type": "stream",
     "text": [
      "Câmera calibrada: 0.21228579019699317\n"
     ]
    }
   ],
   "source": [
    "print(f\"Câmera calibrada: {ret}\")\n"
   ]
  },
  {
   "cell_type": "code",
   "execution_count": 7,
   "metadata": {},
   "outputs": [
    {
     "name": "stdout",
     "output_type": "stream",
     "text": [
      "Matriz da câmera: [[1.18482389e+03 0.00000000e+00 7.31600992e+02]\n",
      " [0.00000000e+00 1.18738762e+03 5.30851864e+02]\n",
      " [0.00000000e+00 0.00000000e+00 1.00000000e+00]]\n"
     ]
    }
   ],
   "source": [
    "print(f\"Matriz da câmera: {mtx}\")\n"
   ]
  },
  {
   "cell_type": "code",
   "execution_count": 8,
   "metadata": {},
   "outputs": [
    {
     "name": "stdout",
     "output_type": "stream",
     "text": [
      "Parâmetros de distorção: [[ 2.95473521e-01 -1.73593742e+00 -6.26874139e-03  3.27806434e-03\n",
      "   4.74664734e+00]]\n"
     ]
    }
   ],
   "source": [
    "print(f\"Parâmetros de distorção: {dist}\")\n"
   ]
  },
  {
   "cell_type": "code",
   "execution_count": 9,
   "metadata": {},
   "outputs": [
    {
     "name": "stdout",
     "output_type": "stream",
     "text": [
      "Vetores de rotação: (array([[-0.03842216],\n",
      "       [-0.00536368],\n",
      "       [-0.02984977]]), array([[-0.13113886],\n",
      "       [ 0.10399365],\n",
      "       [-0.03220399]]), array([[-0.09278796],\n",
      "       [ 0.58072142],\n",
      "       [-0.0176509 ]]), array([[-0.10964583],\n",
      "       [-0.39117723],\n",
      "       [-0.04801479]]), array([[-0.82820683],\n",
      "       [ 0.09051592],\n",
      "       [ 0.02689953]]), array([[ 0.53426375],\n",
      "       [ 0.00190365],\n",
      "       [-0.03818076]]), array([[-0.0673497 ],\n",
      "       [ 0.57607114],\n",
      "       [ 0.11452913]]), array([[-0.32844039],\n",
      "       [-0.48515204],\n",
      "       [-0.06060703]]), array([[-1.18383616],\n",
      "       [ 0.05537117],\n",
      "       [-0.01884005]]), array([[-0.18105712],\n",
      "       [ 0.59817043],\n",
      "       [-0.04818877]]))\n"
     ]
    }
   ],
   "source": [
    "print(f\"Vetores de rotação: {rvecs}\")\n"
   ]
  },
  {
   "cell_type": "code",
   "execution_count": 10,
   "metadata": {},
   "outputs": [
    {
     "name": "stdout",
     "output_type": "stream",
     "text": [
      "Vetores de translação: (array([[-4.8419997 ],\n",
      "       [ 1.21202344],\n",
      "       [34.69078052]]), array([[-5.08519155],\n",
      "       [ 0.09188034],\n",
      "       [36.30196102]]), array([[-2.64350813],\n",
      "       [-0.34405491],\n",
      "       [37.28469283]]), array([[-7.24831385],\n",
      "       [-0.76513034],\n",
      "       [33.24421014]]), array([[-4.537905  ],\n",
      "       [ 0.44371489],\n",
      "       [35.7790967 ]]), array([[-6.2023911 ],\n",
      "       [-3.65085106],\n",
      "       [31.72359656]]), array([[-2.73998471],\n",
      "       [-0.29083807],\n",
      "       [34.29851343]]), array([[-6.40183939],\n",
      "       [-1.128979  ],\n",
      "       [24.84042054]]), array([[-5.47994048],\n",
      "       [ 1.44527272],\n",
      "       [33.56127579]]), array([[-3.0919013],\n",
      "       [-1.8750232],\n",
      "       [32.1291256]]))\n"
     ]
    }
   ],
   "source": [
    "print(f\"Vetores de translação: {tvecs}\")"
   ]
  },
  {
   "cell_type": "code",
   "execution_count": 17,
   "metadata": {},
   "outputs": [],
   "source": [
    "img = cv.imread('.\\calibration_resized\\IMG-1832.JPG')\n",
    "h, w = img.shape[:2]\n",
    "new_camera_matrix, roi = cv.getOptimalNewCameraMatrix(mtx, dist, (w, h), 1, (w, h))\n",
    "# distort = cv.undistort(img, mtx, dist, None, new_camera_matrix)"
   ]
  },
  {
   "cell_type": "code",
   "execution_count": 12,
   "metadata": {},
   "outputs": [
    {
     "data": {
      "text/plain": [
       "True"
      ]
     },
     "execution_count": 12,
     "metadata": {},
     "output_type": "execute_result"
    }
   ],
   "source": [
    "# x, y, w, h = roi\n",
    "# distort = distort[y:(y + h), x:(x + w)]\n",
    "# cv.imwrite('./distorted/distorted.jpg', distort)"
   ]
  },
  {
   "cell_type": "code",
   "execution_count": 20,
   "metadata": {},
   "outputs": [],
   "source": [
    "mapx, mapy = cv.initUndistortRectifyMap(mtx, dist, None, new_camera_matrix, (w, h), 5)\n",
    "distort = cv.remap(img, mapx, mapy, cv.INTER_LINEAR)"
   ]
  },
  {
   "cell_type": "code",
   "execution_count": 21,
   "metadata": {},
   "outputs": [
    {
     "data": {
      "text/plain": [
       "True"
      ]
     },
     "execution_count": 21,
     "metadata": {},
     "output_type": "execute_result"
    }
   ],
   "source": [
    "x, y, w, h = roi\n",
    "distort = distort[y:(y + h), x:(x + w)]\n",
    "cv.imwrite('./undistorted/undistorted.jpg', distort)"
   ]
  },
  {
   "cell_type": "code",
   "execution_count": 22,
   "metadata": {},
   "outputs": [],
   "source": [
    "mean_error = 0\n",
    "\n",
    "for i in range(len(objpoints)):\n",
    "    img_points2, _ = cv.projectPoints(objpoints[i], rvecs[i], tvecs[i], mtx, dist)\n",
    "    error = cv.norm(imgpoints[i], img_points2, cv.NORM_L2)/len(img_points2)\n",
    "    mean_error += error"
   ]
  },
  {
   "cell_type": "code",
   "execution_count": 16,
   "metadata": {},
   "outputs": [
    {
     "name": "stdout",
     "output_type": "stream",
     "text": [
      "Total error: 0.024217647187486806\n"
     ]
    }
   ],
   "source": [
    "print(f\"Total error: {mean_error/len(objpoints)}\")\n"
   ]
  },
  {
   "cell_type": "code",
   "execution_count": null,
   "metadata": {},
   "outputs": [],
   "source": []
  }
 ],
 "metadata": {
  "interpreter": {
   "hash": "ba1d1df668962d8710c7512eb932d1e350d3686d4d64bcc7c44ca4471406b8fc"
  },
  "kernelspec": {
   "display_name": "Python 3.9.12 ('allie_py39')",
   "language": "python",
   "name": "python3"
  },
  "language_info": {
   "codemirror_mode": {
    "name": "ipython",
    "version": 3
   },
   "file_extension": ".py",
   "mimetype": "text/x-python",
   "name": "python",
   "nbconvert_exporter": "python",
   "pygments_lexer": "ipython3",
   "version": "3.9.12"
  },
  "orig_nbformat": 4
 },
 "nbformat": 4,
 "nbformat_minor": 2
}
